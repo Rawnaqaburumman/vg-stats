{
 "cells": [
  {
   "cell_type": "markdown",
   "id": "a62d2391-dc90-4356-8711-0c52e699e82a",
   "metadata": {},
   "source": [
    "## bike-stats\n",
    "By: Rawnaq Aburumman Date: 15\\11\\2021"
   ]
  },
  {
   "cell_type": "markdown",
   "id": "d6a497d2-bf81-495b-99c5-b4aeed8af280",
   "metadata": {},
   "source": [
    "##   What is the average trip duration for a borrowed bicycle??"
   ]
  },
  {
   "cell_type": "code",
   "execution_count": 1,
   "id": "e0dcc49f-6d6e-442c-8d10-2c71c9f2c772",
   "metadata": {
    "tags": []
   },
   "outputs": [],
   "source": [
    "import matplotlib.pyplot as plt\n",
    "import pandas as pd\n",
    "import numpy as np\n"
   ]
  },
  {
   "cell_type": "code",
   "execution_count": 13,
   "id": "e848e7b8-9376-4646-b12a-afa613daf53c",
   "metadata": {
    "collapsed": true,
    "jupyter": {
     "outputs_hidden": true
    },
    "tags": []
   },
   "outputs": [
    {
     "name": "stderr",
     "output_type": "stream",
     "text": [
      "/home/rawnaq/401/vg-stats/.venv/lib/python3.9/site-packages/IPython/core/interactiveshell.py:3444: FutureWarning: The error_bad_lines argument has been deprecated and will be removed in a future version.\n",
      "\n",
      "\n",
      "  exec(code_obj, self.user_global_ns, self.user_ns)\n",
      "b'Skipping line 50794: expected 12 fields, saw 20\\n'\n"
     ]
    }
   ],
   "source": [
    "df_trip = pd.read_csv('./assests/trip.csv',error_bad_lines=False)\n",
    "df_whether = pd.read_csv( \"assests/weather.csv\")\n",
    "df_station = pd.read_csv('assests/station.csv')\n"
   ]
  },
  {
   "cell_type": "markdown",
   "id": "6c77157b-e086-438d-9695-c3b5e964eec4",
   "metadata": {},
   "source": [
    "##  What is the average trip duration for a borrowed bicycle?"
   ]
  },
  {
   "cell_type": "code",
   "execution_count": 3,
   "id": "9939fc48-404c-4c59-8fac-f69c8a3d721d",
   "metadata": {},
   "outputs": [
    {
     "data": {
      "text/plain": [
       "1178.2956753399776"
      ]
     },
     "execution_count": 3,
     "metadata": {},
     "output_type": "execute_result"
    }
   ],
   "source": [
    "trip_duration_average=df_trip['tripduration'].mean()\n",
    "trip_duration_average"
   ]
  },
  {
   "cell_type": "markdown",
   "id": "04f9a273-4957-4324-b260-c7bb4cc03ef5",
   "metadata": {},
   "source": [
    "### What's the most common age of a bicycle-sharer?"
   ]
  },
  {
   "cell_type": "code",
   "execution_count": 4,
   "id": "2a573e1b-59cb-4137-a611-4c1515e39aff",
   "metadata": {},
   "outputs": [
    {
     "data": {
      "text/plain": [
       "41.240937907938815"
      ]
     },
     "execution_count": 4,
     "metadata": {},
     "output_type": "execute_result"
    }
   ],
   "source": [
    "average_age = df_trip[\"birthyear\"].mean()\n",
    "average_age = 2021 - average_age\n",
    "average_age"
   ]
  },
  {
   "cell_type": "markdown",
   "id": "8c490893-f926-4dc6-a07c-8df1379cac90",
   "metadata": {},
   "source": [
    " ### Given all the weather data here, find the average precipitation per month, and the median precipitation."
   ]
  },
  {
   "cell_type": "code",
   "execution_count": 25,
   "id": "be645f47-71cd-4638-98dc-94c9db4e9a70",
   "metadata": {},
   "outputs": [
    {
     "data": {
      "text/plain": [
       "(            Precipitation_In\n",
       " Year Month                  \n",
       " 2014 10             0.300526\n",
       "      11             0.141667\n",
       "      12             0.145161\n",
       " 2015 1              0.070645\n",
       "      2              0.163214\n",
       "      3              0.135161\n",
       "      4              0.056667\n",
       "      5              0.014194\n",
       "      6              0.005667\n",
       "      7              0.008710\n",
       "      8              0.035484\n",
       "      9              0.041000\n",
       "      10             0.120645\n",
       "      11             0.234000\n",
       "      12             0.327419\n",
       " 2016 1              0.216452\n",
       "      2              0.173448\n",
       "      3              0.178710\n",
       "      4              0.046000\n",
       "      5              0.010645\n",
       "      6              0.055333\n",
       "      7              0.015484\n",
       "      8              0.000968,\n",
       "             Precipitation_In\n",
       " Year Month                  \n",
       " 2014 10                0.140\n",
       "      11                0.010\n",
       "      12                0.010\n",
       " 2015 1                 0.010\n",
       "      2                 0.025\n",
       "      3                 0.000\n",
       "      4                 0.000\n",
       "      5                 0.000\n",
       "      6                 0.000\n",
       "      7                 0.000\n",
       "      8                 0.000\n",
       "      9                 0.000\n",
       "      10                0.010\n",
       "      11                0.065\n",
       "      12                0.120\n",
       " 2016 1                 0.070\n",
       "      2                 0.080\n",
       "      3                 0.060\n",
       "      4                 0.000\n",
       "      5                 0.000\n",
       "      6                 0.000\n",
       "      7                 0.000\n",
       "      8                 0.000)"
      ]
     },
     "execution_count": 25,
     "metadata": {},
     "output_type": "execute_result"
    }
   ],
   "source": [
    "df_whether[\"Month\"]=pd.DatetimeIndex(df_whether[\"Date\"]).month\n",
    "df_whether[\"Year\"]=pd.DatetimeIndex(df_whether[\"Date\"]).year\n",
    "avgerage_preciption=df_whether[['Precipitation_In',\"Month\",'Year']].groupby(['Year','Month']).mean()\n",
    "median_preciption=df_whether[['Precipitation_In',\"Month\",'Year']].groupby(['Year','Month']).median()\n",
    "avgerage_preciption, median_preciption"
   ]
  },
  {
   "cell_type": "markdown",
   "id": "e9ec2c3f-ec28-4310-bd93-9dc6ba55124d",
   "metadata": {},
   "source": [
    "### What's the average number of bikes at a given bike station?"
   ]
  },
  {
   "cell_type": "code",
   "execution_count": 6,
   "id": "37c612c0-e53a-4ddd-9b48-98dad60b7ead",
   "metadata": {},
   "outputs": [
    {
     "data": {
      "text/plain": [
       "18"
      ]
     },
     "execution_count": 6,
     "metadata": {},
     "output_type": "execute_result"
    }
   ],
   "source": [
    "average_number_bikes= round(df_station['install_dockcount'].mean())\n",
    "average_number_bikes"
   ]
  },
  {
   "cell_type": "markdown",
   "id": "38bad664-e668-4410-9934-866a8d1ea2f4",
   "metadata": {},
   "source": [
    "## When a bike station is modified, is it more likely that it’ll lose bikes or gain bikes? How do you know?"
   ]
  },
  {
   "cell_type": "code",
   "execution_count": 17,
   "id": "7863b29b-6d04-4196-b31c-d18ada7abaec",
   "metadata": {},
   "outputs": [
    {
     "data": {
      "text/plain": [
       "-722"
      ]
     },
     "execution_count": 17,
     "metadata": {},
     "output_type": "execute_result"
    }
   ],
   "source": [
    "\n",
    "\n",
    "x=df_station[[\"modification_date\",\"install_dockcount\"]].dropna()\n",
    "y=x[\"install_dockcount\"].sum()- df_station[\"install_dockcount\"].sum()\n",
    "y"
   ]
  },
  {
   "cell_type": "markdown",
   "id": "22854a0e-4f0d-4ec7-9f12-628a635cf45f",
   "metadata": {},
   "source": [
    "## 6. Come up with 3 more questions that can be answered with this data set."
   ]
  },
  {
   "cell_type": "markdown",
   "id": "213527ff-72ae-45dd-8f99-aeaf0fa20670",
   "metadata": {},
   "source": [
    "1. ascending install_date and give me first 20 cells with name"
   ]
  },
  {
   "cell_type": "code",
   "execution_count": 18,
   "id": "230bf513-06ad-423d-be51-94ad4b1e68bf",
   "metadata": {},
   "outputs": [
    {
     "data": {
      "text/html": [
       "<div>\n",
       "<style scoped>\n",
       "    .dataframe tbody tr th:only-of-type {\n",
       "        vertical-align: middle;\n",
       "    }\n",
       "\n",
       "    .dataframe tbody tr th {\n",
       "        vertical-align: top;\n",
       "    }\n",
       "\n",
       "    .dataframe thead th {\n",
       "        text-align: right;\n",
       "    }\n",
       "</style>\n",
       "<table border=\"1\" class=\"dataframe\">\n",
       "  <thead>\n",
       "    <tr style=\"text-align: right;\">\n",
       "      <th></th>\n",
       "      <th>name</th>\n",
       "      <th>install_date</th>\n",
       "    </tr>\n",
       "  </thead>\n",
       "  <tbody>\n",
       "    <tr>\n",
       "      <th>41</th>\n",
       "      <td>Mercer St &amp; 9th Ave N</td>\n",
       "      <td>9/15/2015</td>\n",
       "    </tr>\n",
       "    <tr>\n",
       "      <th>57</th>\n",
       "      <td>Pier 66 / Alaskan Way &amp; Bell St</td>\n",
       "      <td>8/9/2016</td>\n",
       "    </tr>\n",
       "    <tr>\n",
       "      <th>55</th>\n",
       "      <td>Thomas St &amp; 5th Ave N</td>\n",
       "      <td>7/3/2016</td>\n",
       "    </tr>\n",
       "    <tr>\n",
       "      <th>5</th>\n",
       "      <td>Union St &amp; 4th Ave</td>\n",
       "      <td>7/27/2015</td>\n",
       "    </tr>\n",
       "    <tr>\n",
       "      <th>40</th>\n",
       "      <td>Terry Ave &amp; Stewart St</td>\n",
       "      <td>6/12/2015</td>\n",
       "    </tr>\n",
       "    <tr>\n",
       "      <th>10</th>\n",
       "      <td>12th Ave &amp; E Yesler Way</td>\n",
       "      <td>5/22/2015</td>\n",
       "    </tr>\n",
       "    <tr>\n",
       "      <th>54</th>\n",
       "      <td>Broadway and E Denny Way</td>\n",
       "      <td>3/18/2016</td>\n",
       "    </tr>\n",
       "    <tr>\n",
       "      <th>56</th>\n",
       "      <td>NE Pacific St/UW Medical Center</td>\n",
       "      <td>10/29/2015</td>\n",
       "    </tr>\n",
       "    <tr>\n",
       "      <th>32</th>\n",
       "      <td>Dexter Ave N &amp; Aloha St</td>\n",
       "      <td>10/13/2014</td>\n",
       "    </tr>\n",
       "    <tr>\n",
       "      <th>33</th>\n",
       "      <td>Republican St &amp; Westlake Ave N</td>\n",
       "      <td>10/13/2014</td>\n",
       "    </tr>\n",
       "    <tr>\n",
       "      <th>42</th>\n",
       "      <td>Burke-Gilman Trail / NE Blakeley St &amp; 24th Ave NE</td>\n",
       "      <td>10/13/2014</td>\n",
       "    </tr>\n",
       "    <tr>\n",
       "      <th>35</th>\n",
       "      <td>Westlake Ave &amp; 6th Ave</td>\n",
       "      <td>10/13/2014</td>\n",
       "    </tr>\n",
       "    <tr>\n",
       "      <th>36</th>\n",
       "      <td>Pine St &amp; 9th Ave</td>\n",
       "      <td>10/13/2014</td>\n",
       "    </tr>\n",
       "    <tr>\n",
       "      <th>37</th>\n",
       "      <td>Lake Union Park / Valley St &amp; Boren Ave N</td>\n",
       "      <td>10/13/2014</td>\n",
       "    </tr>\n",
       "    <tr>\n",
       "      <th>38</th>\n",
       "      <td>Dexter Ave &amp; Denny Way</td>\n",
       "      <td>10/13/2014</td>\n",
       "    </tr>\n",
       "    <tr>\n",
       "      <th>39</th>\n",
       "      <td>Key Arena / 1st Ave N &amp; Harrison St</td>\n",
       "      <td>10/13/2014</td>\n",
       "    </tr>\n",
       "    <tr>\n",
       "      <th>34</th>\n",
       "      <td>PATH / 9th Ave &amp; Westlake Ave</td>\n",
       "      <td>10/13/2014</td>\n",
       "    </tr>\n",
       "    <tr>\n",
       "      <th>45</th>\n",
       "      <td>NE 47th St &amp; 12th Ave NE</td>\n",
       "      <td>10/13/2014</td>\n",
       "    </tr>\n",
       "    <tr>\n",
       "      <th>43</th>\n",
       "      <td>NE 42nd St &amp; University Way NE</td>\n",
       "      <td>10/13/2014</td>\n",
       "    </tr>\n",
       "    <tr>\n",
       "      <th>44</th>\n",
       "      <td>12th Ave &amp; NE Campus Pkwy</td>\n",
       "      <td>10/13/2014</td>\n",
       "    </tr>\n",
       "  </tbody>\n",
       "</table>\n",
       "</div>"
      ],
      "text/plain": [
       "                                                 name install_date\n",
       "41                              Mercer St & 9th Ave N    9/15/2015\n",
       "57                    Pier 66 / Alaskan Way & Bell St     8/9/2016\n",
       "55                              Thomas St & 5th Ave N     7/3/2016\n",
       "5                                  Union St & 4th Ave    7/27/2015\n",
       "40                             Terry Ave & Stewart St    6/12/2015\n",
       "10                            12th Ave & E Yesler Way    5/22/2015\n",
       "54                           Broadway and E Denny Way    3/18/2016\n",
       "56                    NE Pacific St/UW Medical Center   10/29/2015\n",
       "32                            Dexter Ave N & Aloha St   10/13/2014\n",
       "33                     Republican St & Westlake Ave N   10/13/2014\n",
       "42  Burke-Gilman Trail / NE Blakeley St & 24th Ave NE   10/13/2014\n",
       "35                             Westlake Ave & 6th Ave   10/13/2014\n",
       "36                                  Pine St & 9th Ave   10/13/2014\n",
       "37          Lake Union Park / Valley St & Boren Ave N   10/13/2014\n",
       "38                             Dexter Ave & Denny Way   10/13/2014\n",
       "39                Key Arena / 1st Ave N & Harrison St   10/13/2014\n",
       "34                      PATH / 9th Ave & Westlake Ave   10/13/2014\n",
       "45                           NE 47th St & 12th Ave NE   10/13/2014\n",
       "43                     NE 42nd St & University Way NE   10/13/2014\n",
       "44                          12th Ave & NE Campus Pkwy   10/13/2014"
      ]
     },
     "execution_count": 18,
     "metadata": {},
     "output_type": "execute_result"
    }
   ],
   "source": [
    "first = df_station[[\"name\", \"install_date\"]].sort_values('install_date', ascending=False).head(20)\n",
    "first"
   ]
  },
  {
   "cell_type": "markdown",
   "id": "b9e53eb6-0840-4d18-8338-7d0ff31ccc4f",
   "metadata": {},
   "source": [
    "## 2.Give me the average of birthyear?"
   ]
  },
  {
   "cell_type": "code",
   "execution_count": 19,
   "id": "c111d34a-57d0-4f33-b17a-02e5f9b75623",
   "metadata": {},
   "outputs": [
    {
     "data": {
      "text/plain": [
       "1980.0"
      ]
     },
     "execution_count": 19,
     "metadata": {},
     "output_type": "execute_result"
    }
   ],
   "source": [
    "avg = df_trip[\"birthyear\"].mean()\n",
    "avgr=np.round_(avg)\n",
    "avg"
   ]
  },
  {
   "cell_type": "markdown",
   "id": "9c17c894-8320-458d-ac8e-4e0e3938d3b0",
   "metadata": {},
   "source": [
    "## 3-find the mean of current_dockcount"
   ]
  },
  {
   "cell_type": "code",
   "execution_count": 21,
   "id": "4b2fb979-ef68-43e9-845e-de9ec1a5b8fb",
   "metadata": {},
   "outputs": [
    {
     "data": {
      "text/plain": [
       "16.517241379310345"
      ]
     },
     "execution_count": 21,
     "metadata": {},
     "output_type": "execute_result"
    }
   ],
   "source": [
    "sorting_data=df_station ['current_dockcount'].mean()\n",
    "sorting_data"
   ]
  },
  {
   "cell_type": "code",
   "execution_count": 26,
   "id": "7a936fef-4487-4165-9f84-1c85712a7438",
   "metadata": {},
   "outputs": [
    {
     "ename": "SyntaxError",
     "evalue": "invalid syntax (1186846669.py, line 2)",
     "output_type": "error",
     "traceback": [
      "\u001b[0;36m  File \u001b[0;32m\"/tmp/ipykernel_9232/1186846669.py\"\u001b[0;36m, line \u001b[0;32m2\u001b[0m\n\u001b[0;31m    Year Month\u001b[0m\n\u001b[0m    ^\u001b[0m\n\u001b[0;31mSyntaxError\u001b[0m\u001b[0;31m:\u001b[0m invalid syntax\n"
     ]
    }
   ],
   "source": [
    "\n",
    "def test():\n",
    "\n",
    "    def assert_equal(actual,expected):\n",
    "        assert actual == expected, f\"Expected {expected} but got {actual}\"\n",
    "\n",
    "    assert_equal(trip_duration_average, 1178.2956753399776)\n",
    "    assert_equal(average_age, 41.240937907938815)\n",
    "    assert_equal((avgerage_preciption, median_preciption), a)\n",
    "  \n",
    "    assert_equal(average_number_bikes ,18)\n",
    "\n",
    "\n",
    "    print(\"Success!!!\")\n",
    "\n",
    "test()"
   ]
  },
  {
   "cell_type": "code",
   "execution_count": null,
   "id": "2f01197f-87a4-4c97-9611-926ce3520176",
   "metadata": {},
   "outputs": [],
   "source": []
  }
 ],
 "metadata": {
  "kernelspec": {
   "display_name": "Python 3 (ipykernel)",
   "language": "python",
   "name": "python3"
  },
  "language_info": {
   "codemirror_mode": {
    "name": "ipython",
    "version": 3
   },
   "file_extension": ".py",
   "mimetype": "text/x-python",
   "name": "python",
   "nbconvert_exporter": "python",
   "pygments_lexer": "ipython3",
   "version": "3.9.5"
  }
 },
 "nbformat": 4,
 "nbformat_minor": 5
}
