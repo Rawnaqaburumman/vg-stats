{
 "cells": [
  {
   "cell_type": "markdown",
   "id": "b0516c38-9d5c-4aae-acb6-0a6327736b75",
   "metadata": {},
   "source": [
    "\n",
    "## Video Game Stats Analysis\n",
    "- By: Rawnaq Aburumman\n",
    "- Date: 15\\11\\2021"
   ]
  },
  {
   "cell_type": "code",
   "execution_count": 1,
   "id": "a46e9437-5079-44d2-b4d5-003b8a47d549",
   "metadata": {},
   "outputs": [],
   "source": [
    "import matplotlib.pyplot as plt\n",
    "\n",
    "import pandas as pd"
   ]
  },
  {
   "cell_type": "code",
   "execution_count": 2,
   "id": "2b669ab8-e728-4561-b807-b931aad6557a",
   "metadata": {
    "tags": []
   },
   "outputs": [],
   "source": [
    "df = pd.read_csv('assests/vgsales.csv')\n"
   ]
  },
  {
   "cell_type": "markdown",
   "id": "139e123f-66a5-48b2-8391-7d61be294e72",
   "metadata": {},
   "source": [
    "## 1-Which company is the most common video game publisher?"
   ]
  },
  {
   "cell_type": "code",
   "execution_count": 3,
   "id": "d2ce5e1a-c975-4fd5-a2bf-0ac32634580e",
   "metadata": {},
   "outputs": [
    {
     "data": {
      "text/plain": [
       "'Electronic Arts'"
      ]
     },
     "execution_count": 3,
     "metadata": {},
     "output_type": "execute_result"
    }
   ],
   "source": [
    "most_common_publisher=df.Publisher.mode()[0]\n",
    "most_common_publisher\n"
   ]
  },
  {
   "cell_type": "markdown",
   "id": "ab8957a6-9da0-4eaf-8690-487ff60b5fca",
   "metadata": {},
   "source": [
    "## 2-What's the most common platform?"
   ]
  },
  {
   "cell_type": "code",
   "execution_count": 4,
   "id": "6953543e-e5f7-4865-a3be-ff113bc90daf",
   "metadata": {},
   "outputs": [
    {
     "data": {
      "text/plain": [
       "'DS'"
      ]
     },
     "execution_count": 4,
     "metadata": {},
     "output_type": "execute_result"
    }
   ],
   "source": [
    "most_common_platform=df.Platform.mode()[0]\n",
    "most_common_platform"
   ]
  },
  {
   "cell_type": "markdown",
   "id": "9a8d3ecd-ff3b-4927-abcf-b83d4c8d897a",
   "metadata": {},
   "source": [
    "## 3-What about the most common genre?"
   ]
  },
  {
   "cell_type": "code",
   "execution_count": 5,
   "id": "4dace614-a3e6-4cc0-952a-e0b9da5d3606",
   "metadata": {},
   "outputs": [
    {
     "data": {
      "text/plain": [
       "'Action'"
      ]
     },
     "execution_count": 5,
     "metadata": {},
     "output_type": "execute_result"
    }
   ],
   "source": [
    "most_common_genre=df.Genre.mode()[0]\n",
    "most_common_genre"
   ]
  },
  {
   "cell_type": "markdown",
   "id": "981f1c31-821b-4389-9378-a8e242b2880c",
   "metadata": {},
   "source": [
    " ##4-What are the top 20 highest grossing games?"
   ]
  },
  {
   "cell_type": "code",
   "execution_count": 6,
   "id": "73500dfb-1a48-49d8-8318-3c2062f48429",
   "metadata": {},
   "outputs": [
    {
     "data": {
      "text/plain": [
       "'Wii Sports'"
      ]
     },
     "execution_count": 13,
     "metadata": {},
     "output_type": "execute_result"
    }
   ],
   "source": [
    "top_twenty=df[['Name', 'Global_Sales']].head(20)\n",
    "top_twenty"
   ]
  },
  {
   "cell_type": "markdown",
   "id": "d6b19086-4b70-4e78-a7ce-e535c06011ba",
   "metadata": {},
   "source": [
    "## 5-For North American video game sales, what's the median? 10games"
   ]
  },
  {
   "cell_type": "code",
   "execution_count": 10,
   "id": "e9b48a4a-1afa-40f9-82ce-fd4eceef98c3",
   "metadata": {},
   "outputs": [
    {
     "data": {
      "text/html": [
       "<div>\n",
       "<style scoped>\n",
       "    .dataframe tbody tr th:only-of-type {\n",
       "        vertical-align: middle;\n",
       "    }\n",
       "\n",
       "    .dataframe tbody tr th {\n",
       "        vertical-align: top;\n",
       "    }\n",
       "\n",
       "    .dataframe thead th {\n",
       "        text-align: right;\n",
       "    }\n",
       "</style>\n",
       "<table border=\"1\" class=\"dataframe\">\n",
       "  <thead>\n",
       "    <tr style=\"text-align: right;\">\n",
       "      <th></th>\n",
       "      <th>Name</th>\n",
       "      <th>NA_Sales</th>\n",
       "    </tr>\n",
       "  </thead>\n",
       "  <tbody>\n",
       "    <tr>\n",
       "      <th>9931</th>\n",
       "      <td>Spider-Man: Edge of Time</td>\n",
       "      <td>0.08</td>\n",
       "    </tr>\n",
       "    <tr>\n",
       "      <th>9934</th>\n",
       "      <td>Turok: Evolution</td>\n",
       "      <td>0.08</td>\n",
       "    </tr>\n",
       "    <tr>\n",
       "      <th>9957</th>\n",
       "      <td>Deadpool</td>\n",
       "      <td>0.08</td>\n",
       "    </tr>\n",
       "    <tr>\n",
       "      <th>9996</th>\n",
       "      <td>GT Advance 2: Rally Racing</td>\n",
       "      <td>0.08</td>\n",
       "    </tr>\n",
       "    <tr>\n",
       "      <th>10000</th>\n",
       "      <td>A Witch's Tale</td>\n",
       "      <td>0.08</td>\n",
       "    </tr>\n",
       "    <tr>\n",
       "      <th>10012</th>\n",
       "      <td>Nickelodeon Dance</td>\n",
       "      <td>0.08</td>\n",
       "    </tr>\n",
       "    <tr>\n",
       "      <th>10020</th>\n",
       "      <td>Phantasy Star Collection</td>\n",
       "      <td>0.08</td>\n",
       "    </tr>\n",
       "    <tr>\n",
       "      <th>10022</th>\n",
       "      <td>LEGO Knights' Kingdom</td>\n",
       "      <td>0.08</td>\n",
       "    </tr>\n",
       "    <tr>\n",
       "      <th>10024</th>\n",
       "      <td>Family Game Night 4: The Game Show</td>\n",
       "      <td>0.08</td>\n",
       "    </tr>\n",
       "    <tr>\n",
       "      <th>10026</th>\n",
       "      <td>NBA Jam 2002</td>\n",
       "      <td>0.08</td>\n",
       "    </tr>\n",
       "    <tr>\n",
       "      <th>10029</th>\n",
       "      <td>Tony Hawk's Pro Skater 5</td>\n",
       "      <td>0.08</td>\n",
       "    </tr>\n",
       "    <tr>\n",
       "      <th>10042</th>\n",
       "      <td>Tom Clancy's Rainbow Six: Rogue Spear</td>\n",
       "      <td>0.08</td>\n",
       "    </tr>\n",
       "  </tbody>\n",
       "</table>\n",
       "</div>"
      ],
      "text/plain": [
       "                                        Name  NA_Sales\n",
       "9931                Spider-Man: Edge of Time      0.08\n",
       "9934                        Turok: Evolution      0.08\n",
       "9957                                Deadpool      0.08\n",
       "9996              GT Advance 2: Rally Racing      0.08\n",
       "10000                         A Witch's Tale      0.08\n",
       "10012                      Nickelodeon Dance      0.08\n",
       "10020               Phantasy Star Collection      0.08\n",
       "10022                  LEGO Knights' Kingdom      0.08\n",
       "10024     Family Game Night 4: The Game Show      0.08\n",
       "10026                           NBA Jam 2002      0.08\n",
       "10029               Tony Hawk's Pro Skater 5      0.08\n",
       "10042  Tom Clancy's Rainbow Six: Rogue Spear      0.08"
      ]
     },
     "execution_count": 10,
     "metadata": {},
     "output_type": "execute_result"
    }
   ],
   "source": [
    "na_median_sales=df['NA_Sales'].median()\n",
    "top_10_games_has_median_sales=df[df['NA_Sales']==df['NA_Sales'].median()]\n",
    "top_10_games_has_median_sales[['Name', 'NA_Sales']][224:236]\n",
    "\n"
   ]
  },
  {
   "cell_type": "code",
   "execution_count": null,
   "id": "38acb3ea-b516-4f2a-bea6-7b20d8e9101c",
   "metadata": {},
   "outputs": [],
   "source": []
  },
  {
   "cell_type": "markdown",
   "id": "b51a586a-ab7e-4db9-a714-cf6d9d06ddba",
   "metadata": {},
   "source": [
    "## 6-For the top-selling game of all time, how many standard deviations above/below the mean are its sales for North America?¶"
   ]
  },
  {
   "cell_type": "code",
   "execution_count": 8,
   "id": "5ce46f94-5917-4caa-8041-d66040680de9",
   "metadata": {},
   "outputs": [
    {
     "data": {
      "text/plain": [
       "50.47898767479108"
      ]
     },
     "execution_count": 8,
     "metadata": {},
     "output_type": "execute_result"
    }
   ],
   "source": [
    "na_normal_dist=(df['NA_Sales'][0]-df[\"NA_Sales\"].mean())/df[\"NA_Sales\"].std()\n",
    "na_normal_dist"
   ]
  },
  {
   "cell_type": "markdown",
   "id": "226fb29f-9cf5-440d-b9ee-112484d37c97",
   "metadata": {},
   "source": [
    "### 7-The Nintendo Wii seems to have outdone itself with games. How does its average number of sales compare with all of the other platforms?"
   ]
  },
  {
   "cell_type": "code",
   "execution_count": 9,
   "id": "a731d56a-7cf6-43c5-ae2c-3bd0ae52f4a9",
   "metadata": {},
   "outputs": [
    {
     "data": {
      "text/plain": [
       "(0.6994037735849057, 0.5374406555006628)"
      ]
     },
     "execution_count": 11,
     "metadata": {},
     "output_type": "execute_result"
    }
   ],
   "source": [
    "average_wii=df[df['Platform']=='Wii'].Global_Sales.mean()\n",
    "average_all=df['Global_Sales'].mean()\n",
    "comparing=(average_sales_all, average_sales_wii)\n",
    "comparing"
   ]
  },
  {
   "cell_type": "code",
   "execution_count": null,
   "id": "7beb8a6e-a907-4a1a-a6fd-5d66f055a30f",
   "metadata": {},
   "outputs": [],
   "source": [
    "def test():\n",
    "\n",
    "    def assert_equal(actual,expected):\n",
    "        assert actual == expected, f\"Expected {expected} but got {actual}\"\n",
    "\n",
    "    assert_equal(most_common_publisher, \"Electronic Arts\")\n",
    "    assert_equal(most_common_platform.values, \"DS\")\n",
    "    assert_equal(most_common_genre.values, \"Action\")\n",
    "    assert_equal(top_twenty.iloc[0].Name, \"Wii Sports\")\n",
    "    assert_equal(top_twenty.iloc[19].Name, \"Brain Age: Train Your Brain in Minutes a Day\")\n",
    " \n",
    "\n",
    "    print(\"Success!!!\")\n",
    "\n",
    "test()"
   ]
  },
  {
   "cell_type": "code",
   "execution_count": null,
   "id": "385c4dcd-236a-4083-b529-63389f0b652d",
   "metadata": {},
   "outputs": [],
   "source": []
  },
  {
   "cell_type": "code",
   "execution_count": null,
   "id": "8260e1df-14ee-4f0c-ac8d-679a7d41236a",
   "metadata": {},
   "outputs": [],
   "source": []
  }
 ],
 "metadata": {
  "kernelspec": {
   "display_name": "Python 3 (ipykernel)",
   "language": "python",
   "name": "python3"
  },
  "language_info": {
   "codemirror_mode": {
    "name": "ipython",
    "version": 3
   },
   "file_extension": ".py",
   "mimetype": "text/x-python",
   "name": "python",
   "nbconvert_exporter": "python",
   "pygments_lexer": "ipython3",
   "version": "3.9.5"
  }
 },
 "nbformat": 4,
 "nbformat_minor": 5
}
