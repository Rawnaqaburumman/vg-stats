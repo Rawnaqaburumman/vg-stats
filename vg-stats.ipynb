{
 "cells": [
  {
   "cell_type": "markdown",
   "id": "b0516c38-9d5c-4aae-acb6-0a6327736b75",
   "metadata": {},
   "source": [
    "\n",
    "## Video Game Stats Analysis\n",
    "- By: Rawnaq Aburumman\n",
    "- Date: 15\\11\\2021"
   ]
  },
  {
   "cell_type": "code",
   "execution_count": 1,
   "id": "a46e9437-5079-44d2-b4d5-003b8a47d549",
   "metadata": {},
   "outputs": [],
   "source": [
    "import matplotlib.pyplot as plt\n",
    "\n",
    "import pandas as pd"
   ]
  },
  {
   "cell_type": "code",
   "execution_count": 2,
   "id": "2b669ab8-e728-4561-b807-b931aad6557a",
   "metadata": {
    "tags": []
   },
   "outputs": [],
   "source": [
    "df = pd.read_csv('assests/vgsales.csv')\n"
   ]
  },
  {
   "cell_type": "markdown",
   "id": "139e123f-66a5-48b2-8391-7d61be294e72",
   "metadata": {},
   "source": [
    "## 1-Which company is the most common video game publisher?"
   ]
  },
  {
   "cell_type": "code",
   "execution_count": 3,
   "id": "d2ce5e1a-c975-4fd5-a2bf-0ac32634580e",
   "metadata": {},
   "outputs": [
    {
     "data": {
      "text/plain": [
       "'Electronic Arts'"
      ]
     },
     "execution_count": 3,
     "metadata": {},
     "output_type": "execute_result"
    }
   ],
   "source": [
    "most_common_publisher=df.Publisher.mode()[0]\n",
    "most_common_publisher\n"
   ]
  },
  {
   "cell_type": "markdown",
   "id": "ab8957a6-9da0-4eaf-8690-487ff60b5fca",
   "metadata": {},
   "source": [
    "## 2-What's the most common platform?"
   ]
  },
  {
   "cell_type": "code",
   "execution_count": 4,
   "id": "6953543e-e5f7-4865-a3be-ff113bc90daf",
   "metadata": {},
   "outputs": [
    {
     "data": {
      "text/plain": [
       "'DS'"
      ]
     },
     "execution_count": 4,
     "metadata": {},
     "output_type": "execute_result"
    }
   ],
   "source": [
    "most_common_platform=df.Platform.mode()[0]\n",
    "most_common_platform"
   ]
  },
  {
   "cell_type": "markdown",
   "id": "9a8d3ecd-ff3b-4927-abcf-b83d4c8d897a",
   "metadata": {},
   "source": [
    "## 3-What about the most common genre?"
   ]
  },
  {
   "cell_type": "code",
   "execution_count": 5,
   "id": "4dace614-a3e6-4cc0-952a-e0b9da5d3606",
   "metadata": {},
   "outputs": [
    {
     "data": {
      "text/plain": [
       "'Action'"
      ]
     },
     "execution_count": 5,
     "metadata": {},
     "output_type": "execute_result"
    }
   ],
   "source": [
    "most_common_genre=df.Genre.mode()[0]\n",
    "most_common_genre"
   ]
  },
  {
   "cell_type": "markdown",
   "id": "981f1c31-821b-4389-9378-a8e242b2880c",
   "metadata": {},
   "source": [
    " ##4-What are the top 20 highest grossing games?"
   ]
  },
  {
   "cell_type": "code",
   "execution_count": 6,
   "id": "73500dfb-1a48-49d8-8318-3c2062f48429",
   "metadata": {},
   "outputs": [
    {
     "data": {
      "text/html": [
       "<div>\n",
       "<style scoped>\n",
       "    .dataframe tbody tr th:only-of-type {\n",
       "        vertical-align: middle;\n",
       "    }\n",
       "\n",
       "    .dataframe tbody tr th {\n",
       "        vertical-align: top;\n",
       "    }\n",
       "\n",
       "    .dataframe thead th {\n",
       "        text-align: right;\n",
       "    }\n",
       "</style>\n",
       "<table border=\"1\" class=\"dataframe\">\n",
       "  <thead>\n",
       "    <tr style=\"text-align: right;\">\n",
       "      <th></th>\n",
       "      <th>Name</th>\n",
       "      <th>Global_Sales</th>\n",
       "    </tr>\n",
       "  </thead>\n",
       "  <tbody>\n",
       "    <tr>\n",
       "      <th>0</th>\n",
       "      <td>Wii Sports</td>\n",
       "      <td>82.74</td>\n",
       "    </tr>\n",
       "    <tr>\n",
       "      <th>1</th>\n",
       "      <td>Super Mario Bros.</td>\n",
       "      <td>40.24</td>\n",
       "    </tr>\n",
       "    <tr>\n",
       "      <th>2</th>\n",
       "      <td>Mario Kart Wii</td>\n",
       "      <td>35.82</td>\n",
       "    </tr>\n",
       "    <tr>\n",
       "      <th>3</th>\n",
       "      <td>Wii Sports Resort</td>\n",
       "      <td>33.00</td>\n",
       "    </tr>\n",
       "    <tr>\n",
       "      <th>4</th>\n",
       "      <td>Pokemon Red/Pokemon Blue</td>\n",
       "      <td>31.37</td>\n",
       "    </tr>\n",
       "    <tr>\n",
       "      <th>5</th>\n",
       "      <td>Tetris</td>\n",
       "      <td>30.26</td>\n",
       "    </tr>\n",
       "    <tr>\n",
       "      <th>6</th>\n",
       "      <td>New Super Mario Bros.</td>\n",
       "      <td>30.01</td>\n",
       "    </tr>\n",
       "    <tr>\n",
       "      <th>7</th>\n",
       "      <td>Wii Play</td>\n",
       "      <td>29.02</td>\n",
       "    </tr>\n",
       "    <tr>\n",
       "      <th>8</th>\n",
       "      <td>New Super Mario Bros. Wii</td>\n",
       "      <td>28.62</td>\n",
       "    </tr>\n",
       "    <tr>\n",
       "      <th>9</th>\n",
       "      <td>Duck Hunt</td>\n",
       "      <td>28.31</td>\n",
       "    </tr>\n",
       "    <tr>\n",
       "      <th>10</th>\n",
       "      <td>Nintendogs</td>\n",
       "      <td>24.76</td>\n",
       "    </tr>\n",
       "    <tr>\n",
       "      <th>11</th>\n",
       "      <td>Mario Kart DS</td>\n",
       "      <td>23.42</td>\n",
       "    </tr>\n",
       "    <tr>\n",
       "      <th>12</th>\n",
       "      <td>Pokemon Gold/Pokemon Silver</td>\n",
       "      <td>23.10</td>\n",
       "    </tr>\n",
       "    <tr>\n",
       "      <th>13</th>\n",
       "      <td>Wii Fit</td>\n",
       "      <td>22.72</td>\n",
       "    </tr>\n",
       "    <tr>\n",
       "      <th>14</th>\n",
       "      <td>Wii Fit Plus</td>\n",
       "      <td>22.00</td>\n",
       "    </tr>\n",
       "    <tr>\n",
       "      <th>15</th>\n",
       "      <td>Kinect Adventures!</td>\n",
       "      <td>21.82</td>\n",
       "    </tr>\n",
       "    <tr>\n",
       "      <th>16</th>\n",
       "      <td>Grand Theft Auto V</td>\n",
       "      <td>21.40</td>\n",
       "    </tr>\n",
       "    <tr>\n",
       "      <th>17</th>\n",
       "      <td>Grand Theft Auto: San Andreas</td>\n",
       "      <td>20.81</td>\n",
       "    </tr>\n",
       "    <tr>\n",
       "      <th>18</th>\n",
       "      <td>Super Mario World</td>\n",
       "      <td>20.61</td>\n",
       "    </tr>\n",
       "    <tr>\n",
       "      <th>19</th>\n",
       "      <td>Brain Age: Train Your Brain in Minutes a Day</td>\n",
       "      <td>20.22</td>\n",
       "    </tr>\n",
       "  </tbody>\n",
       "</table>\n",
       "</div>"
      ],
      "text/plain": [
       "                                            Name  Global_Sales\n",
       "0                                     Wii Sports         82.74\n",
       "1                              Super Mario Bros.         40.24\n",
       "2                                 Mario Kart Wii         35.82\n",
       "3                              Wii Sports Resort         33.00\n",
       "4                       Pokemon Red/Pokemon Blue         31.37\n",
       "5                                         Tetris         30.26\n",
       "6                          New Super Mario Bros.         30.01\n",
       "7                                       Wii Play         29.02\n",
       "8                      New Super Mario Bros. Wii         28.62\n",
       "9                                      Duck Hunt         28.31\n",
       "10                                    Nintendogs         24.76\n",
       "11                                 Mario Kart DS         23.42\n",
       "12                   Pokemon Gold/Pokemon Silver         23.10\n",
       "13                                       Wii Fit         22.72\n",
       "14                                  Wii Fit Plus         22.00\n",
       "15                            Kinect Adventures!         21.82\n",
       "16                            Grand Theft Auto V         21.40\n",
       "17                 Grand Theft Auto: San Andreas         20.81\n",
       "18                             Super Mario World         20.61\n",
       "19  Brain Age: Train Your Brain in Minutes a Day         20.22"
      ]
     },
     "execution_count": 6,
     "metadata": {},
     "output_type": "execute_result"
    }
   ],
   "source": [
    "top_twenty=df[['Name', 'Global_Sales']].head(20)\n",
    "top_twenty"
   ]
  },
  {
   "cell_type": "markdown",
   "id": "d6b19086-4b70-4e78-a7ce-e535c06011ba",
   "metadata": {},
   "source": [
    "## 5-For North American video game sales, what's the median? 10games"
   ]
  },
  {
   "cell_type": "code",
   "execution_count": 15,
   "id": "e9b48a4a-1afa-40f9-82ce-fd4eceef98c3",
   "metadata": {},
   "outputs": [
    {
     "data": {
      "text/plain": [
       "0.08"
      ]
     },
     "execution_count": 15,
     "metadata": {},
     "output_type": "execute_result"
    }
   ],
   "source": [
    "na_median_sales=df['NA_Sales'].median()\n",
    "\n",
    "na_median_sales\n"
   ]
  },
  {
   "cell_type": "code",
   "execution_count": 25,
   "id": "b391ee5e-efc3-4fb5-ac14-95cb3aca2c63",
   "metadata": {},
   "outputs": [
    {
     "data": {
      "text/html": [
       "<div>\n",
       "<style scoped>\n",
       "    .dataframe tbody tr th:only-of-type {\n",
       "        vertical-align: middle;\n",
       "    }\n",
       "\n",
       "    .dataframe tbody tr th {\n",
       "        vertical-align: top;\n",
       "    }\n",
       "\n",
       "    .dataframe thead th {\n",
       "        text-align: right;\n",
       "    }\n",
       "</style>\n",
       "<table border=\"1\" class=\"dataframe\">\n",
       "  <thead>\n",
       "    <tr style=\"text-align: right;\">\n",
       "      <th></th>\n",
       "      <th>Name</th>\n",
       "      <th>NA_Sales</th>\n",
       "    </tr>\n",
       "  </thead>\n",
       "  <tbody>\n",
       "    <tr>\n",
       "      <th>9931</th>\n",
       "      <td>Spider-Man: Edge of Time</td>\n",
       "      <td>0.08</td>\n",
       "    </tr>\n",
       "    <tr>\n",
       "      <th>9934</th>\n",
       "      <td>Turok: Evolution</td>\n",
       "      <td>0.08</td>\n",
       "    </tr>\n",
       "    <tr>\n",
       "      <th>9957</th>\n",
       "      <td>Deadpool</td>\n",
       "      <td>0.08</td>\n",
       "    </tr>\n",
       "    <tr>\n",
       "      <th>9996</th>\n",
       "      <td>GT Advance 2: Rally Racing</td>\n",
       "      <td>0.08</td>\n",
       "    </tr>\n",
       "    <tr>\n",
       "      <th>10000</th>\n",
       "      <td>A Witch's Tale</td>\n",
       "      <td>0.08</td>\n",
       "    </tr>\n",
       "    <tr>\n",
       "      <th>10012</th>\n",
       "      <td>Nickelodeon Dance</td>\n",
       "      <td>0.08</td>\n",
       "    </tr>\n",
       "    <tr>\n",
       "      <th>10020</th>\n",
       "      <td>Phantasy Star Collection</td>\n",
       "      <td>0.08</td>\n",
       "    </tr>\n",
       "    <tr>\n",
       "      <th>10022</th>\n",
       "      <td>LEGO Knights' Kingdom</td>\n",
       "      <td>0.08</td>\n",
       "    </tr>\n",
       "    <tr>\n",
       "      <th>10024</th>\n",
       "      <td>Family Game Night 4: The Game Show</td>\n",
       "      <td>0.08</td>\n",
       "    </tr>\n",
       "    <tr>\n",
       "      <th>10026</th>\n",
       "      <td>NBA Jam 2002</td>\n",
       "      <td>0.08</td>\n",
       "    </tr>\n",
       "    <tr>\n",
       "      <th>10029</th>\n",
       "      <td>Tony Hawk's Pro Skater 5</td>\n",
       "      <td>0.08</td>\n",
       "    </tr>\n",
       "    <tr>\n",
       "      <th>10042</th>\n",
       "      <td>Tom Clancy's Rainbow Six: Rogue Spear</td>\n",
       "      <td>0.08</td>\n",
       "    </tr>\n",
       "  </tbody>\n",
       "</table>\n",
       "</div>"
      ],
      "text/plain": [
       "                                        Name  NA_Sales\n",
       "9931                Spider-Man: Edge of Time      0.08\n",
       "9934                        Turok: Evolution      0.08\n",
       "9957                                Deadpool      0.08\n",
       "9996              GT Advance 2: Rally Racing      0.08\n",
       "10000                         A Witch's Tale      0.08\n",
       "10012                      Nickelodeon Dance      0.08\n",
       "10020               Phantasy Star Collection      0.08\n",
       "10022                  LEGO Knights' Kingdom      0.08\n",
       "10024     Family Game Night 4: The Game Show      0.08\n",
       "10026                           NBA Jam 2002      0.08\n",
       "10029               Tony Hawk's Pro Skater 5      0.08\n",
       "10042  Tom Clancy's Rainbow Six: Rogue Spear      0.08"
      ]
     },
     "execution_count": 25,
     "metadata": {},
     "output_type": "execute_result"
    }
   ],
   "source": [
    "top_10_games_has_median_sales=df[df['NA_Sales']==df['NA_Sales'].median()]\n",
    "top_10_games_has_median_sales[['Name', 'NA_Sales']][224:236]\n",
    "\n",
    "\n",
    "                                     "
   ]
  },
  {
   "cell_type": "code",
   "execution_count": 48,
   "id": "38acb3ea-b516-4f2a-bea6-7b20d8e9101c",
   "metadata": {},
   "outputs": [
    {
     "data": {
      "text/plain": [
       "446    Dragon Warrior IV\n",
       "Name: Name, dtype: object"
      ]
     },
     "execution_count": 48,
     "metadata": {},
     "output_type": "execute_result"
    }
   ],
   "source": [
    "top_10_games_has_median_sales=df[df['NA_Sales']==df['NA_Sales'].median()]\n",
    "top_10_games_has_median_sales[['Name', 'NA_Sales']][224:236]\n",
    "\n",
    "first_item= top_10_games_has_median_sales[['Name', 'NA_Sales']][0:1]\n",
    "first_item.Name"
   ]
  },
  {
   "cell_type": "markdown",
   "id": "b51a586a-ab7e-4db9-a714-cf6d9d06ddba",
   "metadata": {},
   "source": [
    "## 6-For the top-selling game of all time, how many standard deviations above/below the mean are its sales for North America?¶"
   ]
  },
  {
   "cell_type": "code",
   "execution_count": 8,
   "id": "5ce46f94-5917-4caa-8041-d66040680de9",
   "metadata": {},
   "outputs": [
    {
     "data": {
      "text/plain": [
       "50.47898767479108"
      ]
     },
     "execution_count": 8,
     "metadata": {},
     "output_type": "execute_result"
    }
   ],
   "source": [
    "na_normal_dist=(df['NA_Sales'][0]-df[\"NA_Sales\"].mean())/df[\"NA_Sales\"].std()\n",
    "na_normal_dist"
   ]
  },
  {
   "cell_type": "markdown",
   "id": "226fb29f-9cf5-440d-b9ee-112484d37c97",
   "metadata": {},
   "source": [
    "### 7-The Nintendo Wii seems to have outdone itself with games. How does its average number of sales compare with all of the other platforms?"
   ]
  },
  {
   "cell_type": "code",
   "execution_count": 58,
   "id": "a731d56a-7cf6-43c5-ae2c-3bd0ae52f4a9",
   "metadata": {},
   "outputs": [
    {
     "name": "stdout",
     "output_type": "stream",
     "text": [
      "not wii 0.6994037735849057 wii 0.5233896418516336\n"
     ]
    }
   ],
   "source": [
    "platform_wii = df[df[\"Platform\"]=='Wii']\n",
    "platform_not_wii = df[df[\"Platform\"]!='Wii']\n",
    "platform_not_wiiall = platform_wii[\"Global_Sales\"].mean()\n",
    "average_compare_wii=platform_not_wii[\"Global_Sales\"].mean()\n",
    "\n",
    "average_compare_wii\n",
    "print(f'not wii {average_compare_all} wii {average_compare_wii}')"
   ]
  },
  {
   "cell_type": "code",
   "execution_count": 49,
   "id": "7beb8a6e-a907-4a1a-a6fd-5d66f055a30f",
   "metadata": {},
   "outputs": [
    {
     "name": "stdout",
     "output_type": "stream",
     "text": [
      "Success!!!\n"
     ]
    }
   ],
   "source": [
    "def test():\n",
    "\n",
    "    def assert_equal(actual,expected):\n",
    "        assert actual == expected, f\"Expected {expected} but got {actual}\"\n",
    "\n",
    "    assert_equal(most_common_publisher, \"Electronic Arts\")\n",
    "    assert_equal(most_common_platform, \"DS\")\n",
    "    assert_equal(most_common_genre, \"Action\")\n",
    "    assert_equal(top_twenty.iloc[0].Name, \"Wii Sports\")\n",
    "    assert_equal(top_twenty.iloc[19].Name, \"Brain Age: Train Your Brain in Minutes a Day\")\n",
    "    assert_equal(na_median_sales, 0.08)\n",
    "\n",
    "\n",
    "\n",
    " \n",
    "\n",
    "    print(\"Success!!!\")\n",
    "\n",
    "test()"
   ]
  },
  {
   "cell_type": "markdown",
   "id": "a6cc0700-13d0-4356-b039-830dcab47da2",
   "metadata": {},
   "source": [
    "## Come up with 3 more questions that can be answered with this data set?"
   ]
  },
  {
   "cell_type": "markdown",
   "id": "d2e8eb28-06f1-4435-bd30-ae4f0cf4ee57",
   "metadata": {},
   "source": [
    "## 1-The mean for the EU_Sales"
   ]
  },
  {
   "cell_type": "code",
   "execution_count": 59,
   "id": "c7a5c4c3-ae4d-4dbc-98e1-e2900fec8031",
   "metadata": {},
   "outputs": [
    {
     "data": {
      "text/plain": [
       "0.14665200626581515"
      ]
     },
     "execution_count": 59,
     "metadata": {},
     "output_type": "execute_result"
    }
   ],
   "source": [
    "Eu_sales_mean=df['EU_Sales'].mean()\n",
    "Eu_sales_mean"
   ]
  },
  {
   "cell_type": "markdown",
   "id": "597f6cc3-9da4-45c7-b8cc-fc3b720d4500",
   "metadata": {},
   "source": [
    "## 2-  Sort the game Genre descending depends on Global Sales?"
   ]
  },
  {
   "cell_type": "code",
   "execution_count": 60,
   "id": "58698267-e2ef-430b-8b32-d9425e1da301",
   "metadata": {},
   "outputs": [
    {
     "data": {
      "text/html": [
       "<div>\n",
       "<style scoped>\n",
       "    .dataframe tbody tr th:only-of-type {\n",
       "        vertical-align: middle;\n",
       "    }\n",
       "\n",
       "    .dataframe tbody tr th {\n",
       "        vertical-align: top;\n",
       "    }\n",
       "\n",
       "    .dataframe thead th {\n",
       "        text-align: right;\n",
       "    }\n",
       "</style>\n",
       "<table border=\"1\" class=\"dataframe\">\n",
       "  <thead>\n",
       "    <tr style=\"text-align: right;\">\n",
       "      <th></th>\n",
       "      <th>Global_Sales</th>\n",
       "      <th>Genre</th>\n",
       "    </tr>\n",
       "  </thead>\n",
       "  <tbody>\n",
       "    <tr>\n",
       "      <th>0</th>\n",
       "      <td>82.74</td>\n",
       "      <td>Sports</td>\n",
       "    </tr>\n",
       "    <tr>\n",
       "      <th>1</th>\n",
       "      <td>40.24</td>\n",
       "      <td>Platform</td>\n",
       "    </tr>\n",
       "    <tr>\n",
       "      <th>2</th>\n",
       "      <td>35.82</td>\n",
       "      <td>Racing</td>\n",
       "    </tr>\n",
       "    <tr>\n",
       "      <th>3</th>\n",
       "      <td>33.00</td>\n",
       "      <td>Sports</td>\n",
       "    </tr>\n",
       "    <tr>\n",
       "      <th>4</th>\n",
       "      <td>31.37</td>\n",
       "      <td>Role-Playing</td>\n",
       "    </tr>\n",
       "    <tr>\n",
       "      <th>...</th>\n",
       "      <td>...</td>\n",
       "      <td>...</td>\n",
       "    </tr>\n",
       "    <tr>\n",
       "      <th>16564</th>\n",
       "      <td>0.01</td>\n",
       "      <td>Action</td>\n",
       "    </tr>\n",
       "    <tr>\n",
       "      <th>16567</th>\n",
       "      <td>0.01</td>\n",
       "      <td>Action</td>\n",
       "    </tr>\n",
       "    <tr>\n",
       "      <th>16582</th>\n",
       "      <td>0.01</td>\n",
       "      <td>Action</td>\n",
       "    </tr>\n",
       "    <tr>\n",
       "      <th>16583</th>\n",
       "      <td>0.01</td>\n",
       "      <td>Action</td>\n",
       "    </tr>\n",
       "    <tr>\n",
       "      <th>16589</th>\n",
       "      <td>0.01</td>\n",
       "      <td>Action</td>\n",
       "    </tr>\n",
       "  </tbody>\n",
       "</table>\n",
       "<p>16598 rows × 2 columns</p>\n",
       "</div>"
      ],
      "text/plain": [
       "       Global_Sales         Genre\n",
       "0             82.74        Sports\n",
       "1             40.24      Platform\n",
       "2             35.82        Racing\n",
       "3             33.00        Sports\n",
       "4             31.37  Role-Playing\n",
       "...             ...           ...\n",
       "16564          0.01        Action\n",
       "16567          0.01        Action\n",
       "16582          0.01        Action\n",
       "16583          0.01        Action\n",
       "16589          0.01        Action\n",
       "\n",
       "[16598 rows x 2 columns]"
      ]
     },
     "execution_count": 60,
     "metadata": {},
     "output_type": "execute_result"
    }
   ],
   "source": [
    "sort = df.sort_values(by=['Global_Sales' , 'Genre'] ,ascending=False)[['Global_Sales' , 'Genre']]\n",
    "sort"
   ]
  },
  {
   "cell_type": "markdown",
   "id": "fede5d3a-9f62-4808-b3b9-e48f09d89e61",
   "metadata": {},
   "source": [
    "## 3- show the most recent games and genre with paltform?"
   ]
  },
  {
   "cell_type": "code",
   "execution_count": 61,
   "id": "54d9a3cc-98b8-4fe1-9a6c-7c85041922aa",
   "metadata": {},
   "outputs": [
    {
     "data": {
      "text/html": [
       "<div>\n",
       "<style scoped>\n",
       "    .dataframe tbody tr th:only-of-type {\n",
       "        vertical-align: middle;\n",
       "    }\n",
       "\n",
       "    .dataframe tbody tr th {\n",
       "        vertical-align: top;\n",
       "    }\n",
       "\n",
       "    .dataframe thead th {\n",
       "        text-align: right;\n",
       "    }\n",
       "</style>\n",
       "<table border=\"1\" class=\"dataframe\">\n",
       "  <thead>\n",
       "    <tr style=\"text-align: right;\">\n",
       "      <th></th>\n",
       "      <th>Year</th>\n",
       "      <th>Genre</th>\n",
       "      <th>Platform</th>\n",
       "    </tr>\n",
       "  </thead>\n",
       "  <tbody>\n",
       "    <tr>\n",
       "      <th>5957</th>\n",
       "      <td>2020.0</td>\n",
       "      <td>Simulation</td>\n",
       "      <td>DS</td>\n",
       "    </tr>\n",
       "    <tr>\n",
       "      <th>14390</th>\n",
       "      <td>2017.0</td>\n",
       "      <td>Role-Playing</td>\n",
       "      <td>PS4</td>\n",
       "    </tr>\n",
       "    <tr>\n",
       "      <th>16241</th>\n",
       "      <td>2017.0</td>\n",
       "      <td>Role-Playing</td>\n",
       "      <td>PSV</td>\n",
       "    </tr>\n",
       "    <tr>\n",
       "      <th>16438</th>\n",
       "      <td>2017.0</td>\n",
       "      <td>Action</td>\n",
       "      <td>PSV</td>\n",
       "    </tr>\n",
       "    <tr>\n",
       "      <th>7564</th>\n",
       "      <td>2016.0</td>\n",
       "      <td>Strategy</td>\n",
       "      <td>PC</td>\n",
       "    </tr>\n",
       "    <tr>\n",
       "      <th>...</th>\n",
       "      <td>...</td>\n",
       "      <td>...</td>\n",
       "      <td>...</td>\n",
       "    </tr>\n",
       "    <tr>\n",
       "      <th>14377</th>\n",
       "      <td>NaN</td>\n",
       "      <td>Action</td>\n",
       "      <td>PSP</td>\n",
       "    </tr>\n",
       "    <tr>\n",
       "      <th>14696</th>\n",
       "      <td>NaN</td>\n",
       "      <td>Action</td>\n",
       "      <td>GBA</td>\n",
       "    </tr>\n",
       "    <tr>\n",
       "      <th>15876</th>\n",
       "      <td>NaN</td>\n",
       "      <td>Action</td>\n",
       "      <td>GC</td>\n",
       "    </tr>\n",
       "    <tr>\n",
       "      <th>16065</th>\n",
       "      <td>NaN</td>\n",
       "      <td>Action</td>\n",
       "      <td>XB</td>\n",
       "    </tr>\n",
       "    <tr>\n",
       "      <th>16493</th>\n",
       "      <td>NaN</td>\n",
       "      <td>Action</td>\n",
       "      <td>3DS</td>\n",
       "    </tr>\n",
       "  </tbody>\n",
       "</table>\n",
       "<p>16598 rows × 3 columns</p>\n",
       "</div>"
      ],
      "text/plain": [
       "         Year         Genre Platform\n",
       "5957   2020.0    Simulation       DS\n",
       "14390  2017.0  Role-Playing      PS4\n",
       "16241  2017.0  Role-Playing      PSV\n",
       "16438  2017.0        Action      PSV\n",
       "7564   2016.0      Strategy       PC\n",
       "...       ...           ...      ...\n",
       "14377     NaN        Action      PSP\n",
       "14696     NaN        Action      GBA\n",
       "15876     NaN        Action       GC\n",
       "16065     NaN        Action       XB\n",
       "16493     NaN        Action      3DS\n",
       "\n",
       "[16598 rows x 3 columns]"
      ]
     },
     "execution_count": 61,
     "metadata": {},
     "output_type": "execute_result"
    }
   ],
   "source": [
    "sort = df.sort_values(by=['Year' , 'Genre'] ,ascending=False)[['Year' , 'Genre' , 'Platform']]\n",
    "sort"
   ]
  },
  {
   "cell_type": "code",
   "execution_count": null,
   "id": "42897eef-6f91-488b-b4b1-43812a681d5e",
   "metadata": {},
   "outputs": [],
   "source": []
  }
 ],
 "metadata": {
  "kernelspec": {
   "display_name": "Python 3 (ipykernel)",
   "language": "python",
   "name": "python3"
  },
  "language_info": {
   "codemirror_mode": {
    "name": "ipython",
    "version": 3
   },
   "file_extension": ".py",
   "mimetype": "text/x-python",
   "name": "python",
   "nbconvert_exporter": "python",
   "pygments_lexer": "ipython3",
   "version": "3.9.5"
  }
 },
 "nbformat": 4,
 "nbformat_minor": 5
}
